{
 "cells": [
  {
   "cell_type": "code",
   "execution_count": 1,
   "id": "f0e4579b-0faf-4223-a0bf-9d6146593ef1",
   "metadata": {
    "scrolled": true
   },
   "outputs": [
    {
     "name": "stdout",
     "output_type": "stream",
     "text": [
      "Defaulting to user installation because normal site-packages is not writeable\n",
      "Requirement already satisfied: PyQt6 in c:\\users\\237426\\appdata\\roaming\\python\\python312\\site-packages (6.7.1)\n",
      "Requirement already satisfied: PyQt6-sip<14,>=13.8 in c:\\users\\237426\\appdata\\roaming\\python\\python312\\site-packages (from PyQt6) (13.8.0)\n",
      "Requirement already satisfied: PyQt6-Qt6<6.8.0,>=6.7.0 in c:\\users\\237426\\appdata\\roaming\\python\\python312\\site-packages (from PyQt6) (6.7.3)\n"
     ]
    }
   ],
   "source": [
    "!pip install PyQt6"
   ]
  },
  {
   "cell_type": "code",
   "execution_count": null,
   "id": "01b1db79-d206-4af3-8d50-b924cacafbb1",
   "metadata": {},
   "outputs": [],
   "source": [
    "\n",
    "\n",
    "import sys\n",
    "import math\n",
    "from PyQt6.QtWidgets import QApplication, QWidget\n",
    "from PyQt6.QtGui import QPainter, QColor\n",
    "from PyQt6.QtCore import QTimer\n",
    "\n",
    "class DrawingWidget(QWidget):\n",
    "    def __init__(self):\n",
    "        super().__init__()\n",
    "        self.setWindowTitle('Moving Circle')\n",
    "\n",
    "        \n",
    "        self.radius = 200\n",
    "        self.angle = 0\n",
    "        self.speed = -2  \n",
    "\n",
    "        # Timer \n",
    "        self.timer = QTimer(self)\n",
    "        self.timer.timeout.connect(self.update_position)\n",
    "        self.timer.start(30)\n",
    "\n",
    "    def update_position(self):\n",
    "        \n",
    "        self.angle = (self.angle + self.speed) % 360\n",
    "        self.update()  \n",
    "\n",
    "    def paintEvent(self, event):\n",
    "\n",
    "        \n",
    "        painter = QPainter(self)\n",
    "        painter.setRenderHint(QPainter.RenderHint.Antialiasing)\n",
    "\n",
    "\n",
    "        \n",
    "        self.draw_background(painter)\n",
    "        center = self.rect().center()\n",
    "        self.draw_static_circle(painter, center, self.radius, QColor(20, 70, 10))\n",
    "        self.draw_moving_circle(painter, center)\n",
    "\n",
    "    def draw_background(self, painter):\n",
    "        \n",
    "        painter.setBrush(QColor(220, 220, 220))\n",
    "        painter.drawRect(self.rect())\n",
    "\n",
    "    def draw_static_circle(self, painter, center, radius, color):\n",
    "\n",
    "\n",
    "        \n",
    "        painter.setBrush(color)\n",
    "        painter.drawEllipse(center, radius, radius)  \n",
    "\n",
    "    def draw_moving_circle(self, painter, center):\n",
    "        \n",
    "        angle_rad = math.radians(self.angle)\n",
    "        point_x = center.x() + self.radius * math.cos(angle_rad)\n",
    "        point_y = center.y() + self.radius * math.sin(angle_rad)\n",
    "\n",
    "\n",
    "        \n",
    "        painter.setBrush(QColor(20, 100, 10))\n",
    "        painter.drawEllipse(int(point_x - 15), int(point_y - 15), 30, 30)  \n",
    "\n",
    "\n",
    "\n",
    "if __name__ == '__main__':\n",
    "    app = QApplication(sys.argv)\n",
    "    window = DrawingWidget()\n",
    "    window.resize(600, 600)\n",
    "    window.show()\n",
    "    sys.exit(app.exec())\n"
   ]
  },
  {
   "cell_type": "code",
   "execution_count": null,
   "id": "83487a1b-9a5a-4d04-a568-7c7e87b0d536",
   "metadata": {},
   "outputs": [],
   "source": []
  }
 ],
 "metadata": {
  "kernelspec": {
   "display_name": "Python 3 (ipykernel)",
   "language": "python",
   "name": "python3"
  },
  "language_info": {
   "codemirror_mode": {
    "name": "ipython",
    "version": 3
   },
   "file_extension": ".py",
   "mimetype": "text/x-python",
   "name": "python",
   "nbconvert_exporter": "python",
   "pygments_lexer": "ipython3",
   "version": "3.12.4"
  }
 },
 "nbformat": 4,
 "nbformat_minor": 5
}
